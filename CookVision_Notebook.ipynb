{
 "cells": [
  {
   "cell_type": "markdown",
   "metadata": {},
   "source": [
    "## This Notebook is a combination of everything needed to run our cook vision on a machine"
   ]
  },
  {
   "cell_type": "markdown",
   "metadata": {},
   "source": [
    "### Run this to install all the requirements if you don't hava them already installed in your venv"
   ]
  },
  {
   "cell_type": "code",
   "execution_count": 1,
   "metadata": {},
   "outputs": [
    {
     "name": "stdout",
     "output_type": "stream",
     "text": [
      "Requirement already satisfied: numpy<2.0 in c:\\users\\nurja\\anaconda3\\lib\\site-packages (from -r requirements.txt (line 1)) (1.26.4)\n",
      "Collecting inference (from -r requirements.txt (line 2))\n",
      "  Downloading inference-0.47.0-py3-none-any.whl.metadata (24 kB)\n",
      "Collecting supervision (from -r requirements.txt (line 3))\n",
      "  Downloading supervision-0.25.1-py3-none-any.whl.metadata (14 kB)\n",
      "Requirement already satisfied: opencv-python-headless in c:\\users\\nurja\\anaconda3\\lib\\site-packages (from -r requirements.txt (line 4)) (4.10.0.84)\n",
      "Requirement already satisfied: matplotlib in c:\\users\\nurja\\anaconda3\\lib\\site-packages (from -r requirements.txt (line 5)) (3.10.0)\n",
      "Requirement already satisfied: ultralytics in c:\\users\\nurja\\anaconda3\\lib\\site-packages (from -r requirements.txt (line 6)) (8.3.109)\n",
      "Requirement already satisfied: transformers in c:\\users\\nurja\\anaconda3\\lib\\site-packages (from -r requirements.txt (line 7)) (4.35.2)\n",
      "Requirement already satisfied: requests in c:\\users\\nurja\\anaconda3\\lib\\site-packages (from -r requirements.txt (line 8)) (2.32.3)\n",
      "Requirement already satisfied: torch in c:\\users\\nurja\\anaconda3\\lib\\site-packages (from -r requirements.txt (line 9)) (2.6.0)\n",
      "Requirement already satisfied: accelerate in c:\\users\\nurja\\anaconda3\\lib\\site-packages (from -r requirements.txt (line 10)) (0.24.1)\n",
      "Collecting bitsandbytes (from -r requirements.txt (line 11))\n",
      "  Downloading bitsandbytes-0.45.5-py3-none-win_amd64.whl.metadata (5.1 kB)\n",
      "Note: you may need to restart the kernel to use updated packages.\n"
     ]
    },
    {
     "name": "stderr",
     "output_type": "stream",
     "text": [
      "ERROR: Could not find a version that satisfies the requirement sentensepiece (from versions: none)\n",
      "ERROR: No matching distribution found for sentensepiece\n"
     ]
    }
   ],
   "source": [
    "%pip install -r requirements.txt"
   ]
  },
  {
   "cell_type": "markdown",
   "metadata": {},
   "source": [
    "#### Modules needed for various runs"
   ]
  },
  {
   "cell_type": "code",
   "execution_count": 7,
   "metadata": {},
   "outputs": [
    {
     "name": "stdout",
     "output_type": "stream",
     "text": [
      "Requirement already satisfied: fuzzywuzzy in c:\\users\\nurja\\anaconda3\\lib\\site-packages (0.18.0)\n",
      "Note: you may need to restart the kernel to use updated packages.\n"
     ]
    }
   ],
   "source": [
    "pip install fuzzywuzzy\n"
   ]
  },
  {
   "cell_type": "code",
   "execution_count": 8,
   "metadata": {},
   "outputs": [
    {
     "name": "stdout",
     "output_type": "stream",
     "text": [
      "Collecting streamlit\n",
      "  Downloading streamlit-1.44.1-py3-none-any.whl.metadata (8.9 kB)\n",
      "Collecting altair<6,>=4.0 (from streamlit)\n",
      "  Downloading altair-5.5.0-py3-none-any.whl.metadata (11 kB)\n",
      "Collecting blinker<2,>=1.0.0 (from streamlit)\n",
      "  Downloading blinker-1.9.0-py3-none-any.whl.metadata (1.6 kB)\n",
      "Collecting cachetools<6,>=4.0 (from streamlit)\n",
      "  Downloading cachetools-5.5.2-py3-none-any.whl.metadata (5.4 kB)\n",
      "Requirement already satisfied: click<9,>=7.0 in c:\\users\\nurja\\anaconda3\\lib\\site-packages (from streamlit) (8.1.7)\n",
      "Requirement already satisfied: numpy<3,>=1.23 in c:\\users\\nurja\\anaconda3\\lib\\site-packages (from streamlit) (1.26.4)\n",
      "Requirement already satisfied: packaging<25,>=20 in c:\\users\\nurja\\anaconda3\\lib\\site-packages (from streamlit) (24.1)\n",
      "Requirement already satisfied: pandas<3,>=1.4.0 in c:\\users\\nurja\\anaconda3\\lib\\site-packages (from streamlit) (2.2.3)\n",
      "Requirement already satisfied: pillow<12,>=7.1.0 in c:\\users\\nurja\\anaconda3\\lib\\site-packages (from streamlit) (10.4.0)\n",
      "Requirement already satisfied: protobuf<6,>=3.20 in c:\\users\\nurja\\anaconda3\\lib\\site-packages (from streamlit) (5.29.3)\n",
      "Collecting pyarrow>=7.0 (from streamlit)\n",
      "  Downloading pyarrow-19.0.1-cp310-cp310-win_amd64.whl.metadata (3.4 kB)\n",
      "Requirement already satisfied: requests<3,>=2.27 in c:\\users\\nurja\\anaconda3\\lib\\site-packages (from streamlit) (2.32.3)\n",
      "Collecting tenacity<10,>=8.1.0 (from streamlit)\n",
      "  Downloading tenacity-9.1.2-py3-none-any.whl.metadata (1.2 kB)\n",
      "Collecting toml<2,>=0.10.1 (from streamlit)\n",
      "  Downloading toml-0.10.2-py2.py3-none-any.whl.metadata (7.1 kB)\n",
      "Requirement already satisfied: typing-extensions<5,>=4.4.0 in c:\\users\\nurja\\anaconda3\\lib\\site-packages (from streamlit) (4.11.0)\n",
      "Collecting watchdog<7,>=2.1.5 (from streamlit)\n",
      "  Downloading watchdog-6.0.0-py3-none-win_amd64.whl.metadata (44 kB)\n",
      "Collecting gitpython!=3.1.19,<4,>=3.0.7 (from streamlit)\n",
      "  Downloading GitPython-3.1.44-py3-none-any.whl.metadata (13 kB)\n",
      "Collecting pydeck<1,>=0.8.0b4 (from streamlit)\n",
      "  Downloading pydeck-0.9.1-py2.py3-none-any.whl.metadata (4.1 kB)\n",
      "Requirement already satisfied: tornado<7,>=6.0.3 in c:\\users\\nurja\\anaconda3\\lib\\site-packages (from streamlit) (6.4.1)\n",
      "Requirement already satisfied: jinja2 in c:\\users\\nurja\\anaconda3\\lib\\site-packages (from altair<6,>=4.0->streamlit) (3.1.4)\n",
      "Requirement already satisfied: jsonschema>=3.0 in c:\\users\\nurja\\anaconda3\\lib\\site-packages (from altair<6,>=4.0->streamlit) (4.19.2)\n",
      "Requirement already satisfied: narwhals>=1.14.2 in c:\\users\\nurja\\anaconda3\\lib\\site-packages (from altair<6,>=4.0->streamlit) (1.35.0)\n",
      "Requirement already satisfied: colorama in c:\\users\\nurja\\anaconda3\\lib\\site-packages (from click<9,>=7.0->streamlit) (0.4.6)\n",
      "Collecting gitdb<5,>=4.0.1 (from gitpython!=3.1.19,<4,>=3.0.7->streamlit)\n",
      "  Downloading gitdb-4.0.12-py3-none-any.whl.metadata (1.2 kB)\n",
      "Requirement already satisfied: python-dateutil>=2.8.2 in c:\\users\\nurja\\anaconda3\\lib\\site-packages (from pandas<3,>=1.4.0->streamlit) (2.9.0.post0)\n",
      "Requirement already satisfied: pytz>=2020.1 in c:\\users\\nurja\\anaconda3\\lib\\site-packages (from pandas<3,>=1.4.0->streamlit) (2024.1)\n",
      "Requirement already satisfied: tzdata>=2022.7 in c:\\users\\nurja\\anaconda3\\lib\\site-packages (from pandas<3,>=1.4.0->streamlit) (2023.3)\n",
      "Requirement already satisfied: charset-normalizer<4,>=2 in c:\\users\\nurja\\anaconda3\\lib\\site-packages (from requests<3,>=2.27->streamlit) (2.0.4)\n",
      "Requirement already satisfied: idna<4,>=2.5 in c:\\users\\nurja\\anaconda3\\lib\\site-packages (from requests<3,>=2.27->streamlit) (3.7)\n",
      "Requirement already satisfied: urllib3<3,>=1.21.1 in c:\\users\\nurja\\anaconda3\\lib\\site-packages (from requests<3,>=2.27->streamlit) (2.2.3)\n",
      "Requirement already satisfied: certifi>=2017.4.17 in c:\\users\\nurja\\anaconda3\\lib\\site-packages (from requests<3,>=2.27->streamlit) (2025.1.31)\n",
      "Collecting smmap<6,>=3.0.1 (from gitdb<5,>=4.0.1->gitpython!=3.1.19,<4,>=3.0.7->streamlit)\n",
      "  Downloading smmap-5.0.2-py3-none-any.whl.metadata (4.3 kB)\n",
      "Requirement already satisfied: MarkupSafe>=2.0 in c:\\users\\nurja\\anaconda3\\lib\\site-packages (from jinja2->altair<6,>=4.0->streamlit) (2.1.3)\n",
      "Requirement already satisfied: attrs>=22.2.0 in c:\\users\\nurja\\anaconda3\\lib\\site-packages (from jsonschema>=3.0->altair<6,>=4.0->streamlit) (23.1.0)\n",
      "Requirement already satisfied: jsonschema-specifications>=2023.03.6 in c:\\users\\nurja\\anaconda3\\lib\\site-packages (from jsonschema>=3.0->altair<6,>=4.0->streamlit) (2023.7.1)\n",
      "Requirement already satisfied: referencing>=0.28.4 in c:\\users\\nurja\\anaconda3\\lib\\site-packages (from jsonschema>=3.0->altair<6,>=4.0->streamlit) (0.30.2)\n",
      "Requirement already satisfied: rpds-py>=0.7.1 in c:\\users\\nurja\\anaconda3\\lib\\site-packages (from jsonschema>=3.0->altair<6,>=4.0->streamlit) (0.10.6)\n",
      "Requirement already satisfied: six>=1.5 in c:\\users\\nurja\\anaconda3\\lib\\site-packages (from python-dateutil>=2.8.2->pandas<3,>=1.4.0->streamlit) (1.16.0)\n",
      "Downloading streamlit-1.44.1-py3-none-any.whl (9.8 MB)\n",
      "   ---------------------------------------- 0.0/9.8 MB ? eta -:--:--\n",
      "   ------ --------------------------------- 1.6/9.8 MB 8.4 MB/s eta 0:00:01\n",
      "   ------------------- -------------------- 4.7/9.8 MB 12.4 MB/s eta 0:00:01\n",
      "   --------------------------------- ------ 8.1/9.8 MB 14.0 MB/s eta 0:00:01\n",
      "   ---------------------------------------- 9.8/9.8 MB 12.0 MB/s eta 0:00:00\n",
      "Downloading altair-5.5.0-py3-none-any.whl (731 kB)\n",
      "   ---------------------------------------- 0.0/731.2 kB ? eta -:--:--\n",
      "   --------------------------------------- 731.2/731.2 kB 15.1 MB/s eta 0:00:00\n",
      "Downloading blinker-1.9.0-py3-none-any.whl (8.5 kB)\n",
      "Downloading cachetools-5.5.2-py3-none-any.whl (10 kB)\n",
      "Downloading GitPython-3.1.44-py3-none-any.whl (207 kB)\n",
      "Downloading pyarrow-19.0.1-cp310-cp310-win_amd64.whl (25.3 MB)\n",
      "   ---------------------------------------- 0.0/25.3 MB ? eta -:--:--\n",
      "   ---- ----------------------------------- 2.9/25.3 MB 13.9 MB/s eta 0:00:02\n",
      "   --------- ------------------------------ 5.8/25.3 MB 14.7 MB/s eta 0:00:02\n",
      "   -------------- ------------------------- 8.9/25.3 MB 14.6 MB/s eta 0:00:02\n",
      "   ------------------ --------------------- 11.5/25.3 MB 14.1 MB/s eta 0:00:01\n",
      "   ---------------------- ----------------- 14.2/25.3 MB 13.7 MB/s eta 0:00:01\n",
      "   -------------------------- ------------- 17.0/25.3 MB 13.6 MB/s eta 0:00:01\n",
      "   ------------------------------- -------- 19.9/25.3 MB 13.5 MB/s eta 0:00:01\n",
      "   ----------------------------------- ---- 22.5/25.3 MB 13.5 MB/s eta 0:00:01\n",
      "   ---------------------------------------  25.2/25.3 MB 13.4 MB/s eta 0:00:01\n",
      "   ---------------------------------------  25.2/25.3 MB 13.4 MB/s eta 0:00:01\n",
      "   ---------------------------------------- 25.3/25.3 MB 11.8 MB/s eta 0:00:00\n",
      "Downloading pydeck-0.9.1-py2.py3-none-any.whl (6.9 MB)\n",
      "   ---------------------------------------- 0.0/6.9 MB ? eta -:--:--\n",
      "   --------------- ------------------------ 2.6/6.9 MB 13.7 MB/s eta 0:00:01\n",
      "   ------------------------------ --------- 5.2/6.9 MB 12.7 MB/s eta 0:00:01\n",
      "   ---------------------------------------  6.8/6.9 MB 12.3 MB/s eta 0:00:01\n",
      "   ---------------------------------------- 6.9/6.9 MB 10.6 MB/s eta 0:00:00\n",
      "Downloading tenacity-9.1.2-py3-none-any.whl (28 kB)\n",
      "Downloading toml-0.10.2-py2.py3-none-any.whl (16 kB)\n",
      "Downloading watchdog-6.0.0-py3-none-win_amd64.whl (79 kB)\n",
      "Downloading gitdb-4.0.12-py3-none-any.whl (62 kB)\n",
      "Downloading smmap-5.0.2-py3-none-any.whl (24 kB)\n",
      "Installing collected packages: watchdog, toml, tenacity, smmap, pyarrow, cachetools, blinker, pydeck, gitdb, gitpython, altair, streamlit\n",
      "Successfully installed altair-5.5.0 blinker-1.9.0 cachetools-5.5.2 gitdb-4.0.12 gitpython-3.1.44 pyarrow-19.0.1 pydeck-0.9.1 smmap-5.0.2 streamlit-1.44.1 tenacity-9.1.2 toml-0.10.2 watchdog-6.0.0\n",
      "Note: you may need to restart the kernel to use updated packages.\n"
     ]
    }
   ],
   "source": [
    "pip install streamlit"
   ]
  },
  {
   "cell_type": "code",
   "execution_count": 9,
   "metadata": {},
   "outputs": [
    {
     "name": "stderr",
     "output_type": "stream",
     "text": [
      "c:\\Users\\nurja\\anaconda3\\lib\\site-packages\\tqdm\\auto.py:21: TqdmWarning: IProgress not found. Please update jupyter and ipywidgets. See https://ipywidgets.readthedocs.io/en/stable/user_install.html\n",
      "  from .autonotebook import tqdm as notebook_tqdm\n",
      "c:\\Users\\nurja\\anaconda3\\lib\\site-packages\\transformers\\utils\\generic.py:441: FutureWarning: `torch.utils._pytree._register_pytree_node` is deprecated. Please use `torch.utils._pytree.register_pytree_node` instead.\n",
      "  _torch_pytree._register_pytree_node(\n"
     ]
    }
   ],
   "source": [
    "import os\n",
    "import shutil\n",
    "from PIL import Image\n",
    "import json\n",
    "from collections import defaultdict, Counter\n",
    "from fuzzywuzzy import fuzz\n",
    "import streamlit as st\n",
    "import tempfile\n",
    "from ultralytics import YOLO\n",
    "from transformers import AutoTokenizer, AutoModelForCausalLM\n",
    "import torch\n"
   ]
  },
  {
   "cell_type": "code",
   "execution_count": null,
   "metadata": {},
   "outputs": [],
   "source": []
  },
  {
   "cell_type": "markdown",
   "metadata": {},
   "source": [
    "### After downloading the FOOD-101 Data, you should change the DIR as needed to the root DIR of the food data and align all the other DIR as needed"
   ]
  },
  {
   "cell_type": "markdown",
   "metadata": {},
   "source": [
    "#### Script for splitting the food dataset"
   ]
  },
  {
   "cell_type": "code",
   "execution_count": null,
   "metadata": {},
   "outputs": [],
   "source": [
    "# === Configuration ===\n",
    "raw_images_root = \"/home/classes/ee7722/ee772210/Downloads/food-101/images/\"  # path to original class folders (e.g. apple_pie/*.jpg)\n",
    "output_root = \"datasets/food101_yolo\"\n",
    "train_txt = \"/home/classes/ee7722/ee772210/Downloads/food-101/meta/train.txt\"\n",
    "val_txt = \"/home/classes/ee7722/ee772210/Downloads/food-101/meta/test.txt\"  # Food-101 calls it test.txt\n",
    "\n",
    "# === Output directories ===\n",
    "image_train = os.path.join(output_root, \"images\", \"train\")\n",
    "image_val = os.path.join(output_root, \"images\", \"val\")\n",
    "label_train = os.path.join(output_root, \"labels\", \"train\")\n",
    "label_val = os.path.join(output_root, \"labels\", \"val\")\n",
    "\n",
    "# === Create dirs if they don't exist ===\n",
    "for d in [image_train, image_val, label_train, label_val]:\n",
    "    os.makedirs(d, exist_ok=True)\n",
    "\n",
    "# === Load class names ===\n",
    "with open(\"/home/classes/ee7722/ee772210/Downloads/food-101/meta/classes.txt\") as f:\n",
    "    class_names = [line.strip() for line in f]\n",
    "class_dict = {name: idx for idx, name in enumerate(class_names)}\n",
    "\n",
    "# === Function to convert image and generate label ===\n",
    "def process_list(txt_file, image_dir, label_dir):\n",
    "    with open(txt_file, \"r\") as f:\n",
    "        for line in f:\n",
    "            rel_path = line.strip()  # e.g., apple_pie/123456\n",
    "            class_name = rel_path.split(\"/\")[0]\n",
    "            img_name = rel_path.split(\"/\")[1] + \".jpg\"\n",
    "            class_id = class_dict[class_name]\n",
    "\n",
    "            src_img_path = os.path.join(raw_images_root, class_name, img_name)\n",
    "            dst_img_path = os.path.join(image_dir, f\"{class_name}_{img_name}\")\n",
    "            dst_lbl_path = os.path.join(label_dir, f\"{class_name}_{img_name.replace('.jpg', '.txt')}\")\n",
    "\n",
    "            if not os.path.exists(src_img_path):\n",
    "                print(f\"Image missing: {src_img_path}\")\n",
    "                continue\n",
    "\n",
    "            shutil.copy2(src_img_path, dst_img_path)\n",
    "\n",
    "            # Create a bounding box that spans most of the image (assume object-centered)\n",
    "            try:\n",
    "                with Image.open(src_img_path) as img:\n",
    "                    w, h = img.size\n",
    "                # YOLO format: <class> <x_center> <y_center> <width> <height> (normalized)\n",
    "                bbox = [class_id, 0.5, 0.5, 0.9, 0.9]\n",
    "                with open(dst_lbl_path, \"w\") as f_lbl:\n",
    "                    f_lbl.write(\" \".join([str(x) for x in bbox]) + \"\\n\")\n",
    "            except Exception as e:\n",
    "                print(f\"Failed processing {src_img_path}: {e}\")\n",
    "\n",
    "# === Generate train and val splits with labels ===\n",
    "process_list(train_txt, image_train, label_train)\n",
    "process_list(val_txt, image_val, label_val)\n",
    "\n",
    "print(\"✅ Dataset organized and YOLO labels generated.\")"
   ]
  },
  {
   "cell_type": "markdown",
   "metadata": {},
   "source": [
    "### Using the data.yaml file for Yolov8 modelling"
   ]
  },
  {
   "cell_type": "code",
   "execution_count": null,
   "metadata": {},
   "outputs": [],
   "source": [
    "# Adjust Epoch as needed\n",
    "%yolo task=detect      mode=train      model=yolov8n.pt      data=data.yaml      epochs=50      imgsz=640      batch=16"
   ]
  },
  {
   "cell_type": "code",
   "execution_count": 12,
   "metadata": {},
   "outputs": [
    {
     "name": "stdout",
     "output_type": "stream",
     "text": [
      "Requirement already satisfied: ultralytics in c:\\users\\nurja\\anaconda3\\lib\\site-packages (8.3.109)\n",
      "Requirement already satisfied: numpy<=2.1.1,>=1.23.0 in c:\\users\\nurja\\anaconda3\\lib\\site-packages (from ultralytics) (1.26.4)\n",
      "Requirement already satisfied: matplotlib>=3.3.0 in c:\\users\\nurja\\anaconda3\\lib\\site-packages (from ultralytics) (3.10.0)\n",
      "Requirement already satisfied: opencv-python>=4.6.0 in c:\\users\\nurja\\anaconda3\\lib\\site-packages (from ultralytics) (4.11.0.86)\n",
      "Requirement already satisfied: pillow>=7.1.2 in c:\\users\\nurja\\anaconda3\\lib\\site-packages (from ultralytics) (10.4.0)\n",
      "Requirement already satisfied: pyyaml>=5.3.1 in c:\\users\\nurja\\anaconda3\\lib\\site-packages (from ultralytics) (6.0.1)\n",
      "Requirement already satisfied: requests>=2.23.0 in c:\\users\\nurja\\anaconda3\\lib\\site-packages (from ultralytics) (2.32.3)\n",
      "Requirement already satisfied: scipy>=1.4.1 in c:\\users\\nurja\\anaconda3\\lib\\site-packages (from ultralytics) (1.14.1)\n",
      "Requirement already satisfied: torch>=1.8.0 in c:\\users\\nurja\\anaconda3\\lib\\site-packages (from ultralytics) (2.6.0)\n",
      "Requirement already satisfied: torchvision>=0.9.0 in c:\\users\\nurja\\anaconda3\\lib\\site-packages (from ultralytics) (0.21.0)\n",
      "Requirement already satisfied: tqdm>=4.64.0 in c:\\users\\nurja\\anaconda3\\lib\\site-packages (from ultralytics) (4.66.5)\n",
      "Requirement already satisfied: psutil in c:\\users\\nurja\\anaconda3\\lib\\site-packages (from ultralytics) (5.9.0)\n",
      "Requirement already satisfied: py-cpuinfo in c:\\users\\nurja\\anaconda3\\lib\\site-packages (from ultralytics) (9.0.0)\n",
      "Requirement already satisfied: pandas>=1.1.4 in c:\\users\\nurja\\anaconda3\\lib\\site-packages (from ultralytics) (2.2.3)\n",
      "Requirement already satisfied: seaborn>=0.11.0 in c:\\users\\nurja\\anaconda3\\lib\\site-packages (from ultralytics) (0.13.2)\n",
      "Requirement already satisfied: ultralytics-thop>=2.0.0 in c:\\users\\nurja\\anaconda3\\lib\\site-packages (from ultralytics) (2.0.14)\n",
      "Requirement already satisfied: contourpy>=1.0.1 in c:\\users\\nurja\\anaconda3\\lib\\site-packages (from matplotlib>=3.3.0->ultralytics) (1.3.0)\n",
      "Requirement already satisfied: cycler>=0.10 in c:\\users\\nurja\\anaconda3\\lib\\site-packages (from matplotlib>=3.3.0->ultralytics) (0.12.1)\n",
      "Requirement already satisfied: fonttools>=4.22.0 in c:\\users\\nurja\\anaconda3\\lib\\site-packages (from matplotlib>=3.3.0->ultralytics) (4.54.1)\n",
      "Requirement already satisfied: kiwisolver>=1.3.1 in c:\\users\\nurja\\anaconda3\\lib\\site-packages (from matplotlib>=3.3.0->ultralytics) (1.4.7)\n",
      "Requirement already satisfied: packaging>=20.0 in c:\\users\\nurja\\anaconda3\\lib\\site-packages (from matplotlib>=3.3.0->ultralytics) (24.1)\n",
      "Requirement already satisfied: pyparsing>=2.3.1 in c:\\users\\nurja\\anaconda3\\lib\\site-packages (from matplotlib>=3.3.0->ultralytics) (3.1.4)\n",
      "Requirement already satisfied: python-dateutil>=2.7 in c:\\users\\nurja\\anaconda3\\lib\\site-packages (from matplotlib>=3.3.0->ultralytics) (2.9.0.post0)\n",
      "Requirement already satisfied: pytz>=2020.1 in c:\\users\\nurja\\anaconda3\\lib\\site-packages (from pandas>=1.1.4->ultralytics) (2024.1)\n",
      "Requirement already satisfied: tzdata>=2022.7 in c:\\users\\nurja\\anaconda3\\lib\\site-packages (from pandas>=1.1.4->ultralytics) (2023.3)\n",
      "Requirement already satisfied: charset-normalizer<4,>=2 in c:\\users\\nurja\\anaconda3\\lib\\site-packages (from requests>=2.23.0->ultralytics) (2.0.4)\n",
      "Requirement already satisfied: idna<4,>=2.5 in c:\\users\\nurja\\anaconda3\\lib\\site-packages (from requests>=2.23.0->ultralytics) (3.7)\n",
      "Requirement already satisfied: urllib3<3,>=1.21.1 in c:\\users\\nurja\\anaconda3\\lib\\site-packages (from requests>=2.23.0->ultralytics) (2.2.3)\n",
      "Requirement already satisfied: certifi>=2017.4.17 in c:\\users\\nurja\\anaconda3\\lib\\site-packages (from requests>=2.23.0->ultralytics) (2025.1.31)\n",
      "Requirement already satisfied: filelock in c:\\users\\nurja\\anaconda3\\lib\\site-packages (from torch>=1.8.0->ultralytics) (3.13.1)\n",
      "Requirement already satisfied: typing-extensions>=4.10.0 in c:\\users\\nurja\\anaconda3\\lib\\site-packages (from torch>=1.8.0->ultralytics) (4.11.0)\n",
      "Requirement already satisfied: networkx in c:\\users\\nurja\\anaconda3\\lib\\site-packages (from torch>=1.8.0->ultralytics) (3.2.1)\n",
      "Requirement already satisfied: jinja2 in c:\\users\\nurja\\anaconda3\\lib\\site-packages (from torch>=1.8.0->ultralytics) (3.1.4)\n",
      "Requirement already satisfied: fsspec in c:\\users\\nurja\\anaconda3\\lib\\site-packages (from torch>=1.8.0->ultralytics) (2024.6.1)\n",
      "Requirement already satisfied: sympy==1.13.1 in c:\\users\\nurja\\anaconda3\\lib\\site-packages (from torch>=1.8.0->ultralytics) (1.13.1)\n",
      "Requirement already satisfied: mpmath<1.4,>=1.1.0 in c:\\users\\nurja\\anaconda3\\lib\\site-packages (from sympy==1.13.1->torch>=1.8.0->ultralytics) (1.3.0)\n",
      "Requirement already satisfied: colorama in c:\\users\\nurja\\anaconda3\\lib\\site-packages (from tqdm>=4.64.0->ultralytics) (0.4.6)\n",
      "Requirement already satisfied: six>=1.5 in c:\\users\\nurja\\anaconda3\\lib\\site-packages (from python-dateutil>=2.7->matplotlib>=3.3.0->ultralytics) (1.16.0)\n",
      "Requirement already satisfied: MarkupSafe>=2.0 in c:\\users\\nurja\\anaconda3\\lib\\site-packages (from jinja2->torch>=1.8.0->ultralytics) (2.1.3)\n",
      "Note: you may need to restart the kernel to use updated packages.\n"
     ]
    }
   ],
   "source": [
    "pip install ultralytics\n"
   ]
  },
  {
   "cell_type": "code",
   "execution_count": 14,
   "metadata": {},
   "outputs": [
    {
     "data": {
      "text/plain": [
       "1"
      ]
     },
     "execution_count": 14,
     "metadata": {},
     "output_type": "execute_result"
    }
   ],
   "source": [
    "import os\n",
    "\n",
    "os.system('yolo detect train model=\"D:/LSU/Spring_25/CSC 7333/project/CookVision/runs/detect/train/weights/best.pt\" data=\"data.yaml\" epochs=50 imgsz=640 batch=16')\n"
   ]
  },
  {
   "cell_type": "code",
   "execution_count": 15,
   "metadata": {},
   "outputs": [
    {
     "ename": "SyntaxError",
     "evalue": "invalid syntax (2043054690.py, line 1)",
     "output_type": "error",
     "traceback": [
      "\u001b[1;36m  Cell \u001b[1;32mIn[15], line 1\u001b[1;36m\u001b[0m\n\u001b[1;33m    yolo help\u001b[0m\n\u001b[1;37m         ^\u001b[0m\n\u001b[1;31mSyntaxError\u001b[0m\u001b[1;31m:\u001b[0m invalid syntax\n"
     ]
    }
   ],
   "source": [
    "yolo help\n"
   ]
  },
  {
   "cell_type": "markdown",
   "metadata": {},
   "source": [
    "### Generating dish to ingredients json file"
   ]
  },
  {
   "cell_type": "code",
   "execution_count": null,
   "metadata": {},
   "outputs": [],
   "source": [
    "# === CONFIGURATION ===\n",
    "CLASSES_FILE = \"/home/classes/ee7722/ee772210/Downloads/food-101/meta/classes.txt\"\n",
    "RECIPES_FILE = \"datasets/recipe-ingredients/train.json\"\n",
    "OUTPUT_FILE = \"dish2ingredients.json\"\n",
    "\n",
    "FUZZY_THRESHOLD = 80  # Match quality (0–100); lower = more aggressive\n",
    "\n",
    "# === STEP 1: Load Food-101 class names ===\n",
    "with open(CLASSES_FILE, \"r\") as f:\n",
    "    food101_dishes = [line.strip() for line in f]\n",
    "\n",
    "# === STEP 2: Load Kaggle recipe dataset ===\n",
    "with open(RECIPES_FILE, \"r\") as f:\n",
    "    recipes = json.load(f)\n",
    "\n",
    "# === STEP 3: Match dishes to recipes by fuzzy keyword matching ===\n",
    "dish_to_ingredients = defaultdict(list)\n",
    "\n",
    "for dish in food101_dishes:\n",
    "    dish_name = dish.replace(\"_\", \" \").lower()\n",
    "\n",
    "    for recipe in recipes:\n",
    "        ingredients = [ing.lower() for ing in recipe[\"ingredients\"]]\n",
    "        combined = \" \".join(ingredients)\n",
    "\n",
    "        # Fuzzy match the dish name to the combined ingredients string\n",
    "        score = fuzz.partial_ratio(dish_name, combined)\n",
    "        if score >= FUZZY_THRESHOLD:\n",
    "            dish_to_ingredients[dish].extend(ingredients)\n",
    "\n",
    "print(f\"✅ Matched recipes for {len(dish_to_ingredients)} out of {len(food101_dishes)} classes.\")\n",
    "\n",
    "# === STEP 4: Count and save top ingredients for each dish ===\n",
    "dish2ingredients_final = {}\n",
    "for dish, all_ingredients in dish_to_ingredients.items():\n",
    "    ingredient_counts = Counter(all_ingredients)\n",
    "    top_ingredients = [ing for ing, _ in ingredient_counts.most_common(10)]\n",
    "    dish2ingredients_final[dish] = top_ingredients\n",
    "\n",
    "# Save to JSON\n",
    "with open(OUTPUT_FILE, \"w\") as f:\n",
    "    json.dump(dish2ingredients_final, f, indent=2)\n",
    "\n",
    "print(f\"✅ Saved dish2ingredients.json to: {OUTPUT_FILE}\")"
   ]
  },
  {
   "cell_type": "markdown",
   "metadata": {},
   "source": [
    "## Using Streamlit UI to give a better UI Representation"
   ]
  },
  {
   "cell_type": "code",
   "execution_count": null,
   "metadata": {},
   "outputs": [],
   "source": [
    "# Load model and dish-to-ingredient map\n",
    "model = YOLO(\"runs/detect/train/weights/best.pt\")\n",
    "\n",
    "with open(\"dish2ingredients.json\") as f:\n",
    "    dish_map = json.load(f)\n",
    "\n",
    "\n",
    "# === Load Mistral-7B-Instruct model locally ===\n",
    "@st.cache_resource\n",
    "def load_mistral_model():\n",
    "    model_id = \"mistralai/Mistral-7B-Instruct-v0.1\"\n",
    "    tokenizer = AutoTokenizer.from_pretrained(model_id)\n",
    "    model = AutoModelForCausalLM.from_pretrained(\n",
    "        model_id,\n",
    "        torch_dtype=torch.float16,\n",
    "        device_map=\"auto\"\n",
    "    )\n",
    "    return tokenizer, model\n",
    "\n",
    "tokenizer, mistral_model = load_mistral_model()\n",
    "\n",
    "\n",
    "# === Step 2: Recipe Generator ===\n",
    "def generate_recipe_steps(dish, ingredients):\n",
    "    prompt = f\"Give me a clear at least 5-step recipe for making {dish} using the following ingredients: {', '.join(ingredients)}\"\n",
    "    inputs = tokenizer(prompt, return_tensors=\"pt\").to(mistral_model.device)\n",
    "    outputs = mistral_model.generate(**inputs, max_new_tokens=300)\n",
    "    return tokenizer.decode(outputs[0], skip_special_tokens=True)\n",
    "\n",
    "\n",
    "# === Streamlit UI ===\n",
    "st.set_page_config(page_title=\"CookVision\", layout=\"centered\")\n",
    "st.title(\"🍳 CookVision: AI Cooking Assistant\")\n",
    "st.markdown(\"Upload a food image to detect the dish and get a recipe with likely ingredients.\")\n",
    "\n",
    "upload_dir = \"data/uploads\"\n",
    "os.makedirs(upload_dir, exist_ok=True)\n",
    "\n",
    "uploaded_file = st.file_uploader(\"📷 Upload a food image\", type=[\"jpg\", \"png\", \"jpeg\"])\n",
    "\n",
    "if uploaded_file:\n",
    "    with tempfile.NamedTemporaryFile(delete=False, dir=upload_dir, suffix=\".jpg\") as tmp:\n",
    "        tmp.write(uploaded_file.read())\n",
    "        image_path = tmp.name\n",
    "\n",
    "    image = Image.open(image_path)\n",
    "    st.image(image, caption=\"📸 Uploaded Image\", use_container_width=True)\n",
    "\n",
    "    # === Detection Phase ===\n",
    "    with st.spinner(\"Detecting dish...\"):\n",
    "        results = model(image_path)\n",
    "        detected_dishes = set()\n",
    "\n",
    "        for r in results:\n",
    "            for box in r.boxes:\n",
    "                class_id = int(box.cls[0])\n",
    "                class_name = model.names[class_id]\n",
    "                detected_dishes.add(class_name)\n",
    "\n",
    "    if detected_dishes:\n",
    "        for dish in detected_dishes:\n",
    "            st.subheader(f\"🍽️ Detected Dish: {dish.capitalize()}\")\n",
    "\n",
    "            # Get ingredients\n",
    "            ingredients = dish_map.get(dish, [\"❓ Ingredients not found\"])\n",
    "            st.markdown(\"**🧾 Inferred Ingredients:** \" + \", \".join(ingredients))\n",
    "\n",
    "            # Get recipe steps\n",
    "            with st.spinner(\"🧠 Generating recipe...\"):\n",
    "                recipe = generate_recipe_steps(dish, ingredients)\n",
    "\n",
    "            st.markdown(\"**👩‍🍳 Suggested Recipe Steps:**\")\n",
    "            st.markdown(recipe)\n",
    "    else:\n",
    "        st.warning(\"⚠️ No recognizable dish detected.\")\n",
    "else:\n",
    "    st.info(\"Upload a food photo to get started!\")"
   ]
  },
  {
   "cell_type": "code",
   "execution_count": null,
   "metadata": {},
   "outputs": [],
   "source": [
    "# To run the Streamlit UI\n",
    "%streamlit run app_ui2.py"
   ]
  }
 ],
 "metadata": {
  "kernelspec": {
   "display_name": "base",
   "language": "python",
   "name": "python3"
  },
  "language_info": {
   "codemirror_mode": {
    "name": "ipython",
    "version": 3
   },
   "file_extension": ".py",
   "mimetype": "text/x-python",
   "name": "python",
   "nbconvert_exporter": "python",
   "pygments_lexer": "ipython3",
   "version": "3.10.15"
  }
 },
 "nbformat": 4,
 "nbformat_minor": 2
}
