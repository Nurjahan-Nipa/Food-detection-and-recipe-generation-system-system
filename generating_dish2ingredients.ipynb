{
 "cells": [
  {
   "cell_type": "markdown",
   "metadata": {},
   "source": [
    "### *Suggested Module to be loaded before starting anything*"
   ]
  },
  {
   "cell_type": "code",
   "execution_count": null,
   "metadata": {},
   "outputs": [],
   "source": [
    "# Note that to run some of these you would ned a GPU with >= 12GB VRAM to run Mistral smoothly, or try quantized versions of RAM-constraine\n",
    "\n",
    "%pip install -r requirements.txt"
   ]
  },
  {
   "cell_type": "markdown",
   "metadata": {},
   "source": [
    "### Loading train.json file for training"
   ]
  },
  {
   "cell_type": "code",
   "execution_count": 2,
   "metadata": {},
   "outputs": [
    {
     "name": "stdout",
     "output_type": "stream",
     "text": [
      "Loaded 39774 recipes.\n"
     ]
    }
   ],
   "source": [
    "import json\n",
    "\n",
    "with open(\"datasets/recipe-ingredients/train.json\", \"r\") as f:\n",
    "    recipes = json.load(f)\n",
    "\n",
    "print(f\"Loaded {len(recipes)} recipes.\")\n"
   ]
  },
  {
   "cell_type": "markdown",
   "metadata": {},
   "source": [
    "### Define Target dishes"
   ]
  },
  {
   "cell_type": "code",
   "execution_count": 3,
   "metadata": {},
   "outputs": [
    {
     "name": "stdout",
     "output_type": "stream",
     "text": [
      "Total classes: 101\n"
     ]
    }
   ],
   "source": [
    "with open(\"/home/classes/ee7722/ee772210/Downloads/food-101/meta/classes.txt\", \"r\") as f:\n",
    "    food101_dishes = [line.strip() for line in f]\n",
    "\n",
    "print(\"Total classes:\", len(food101_dishes))\n"
   ]
  },
  {
   "cell_type": "markdown",
   "metadata": {},
   "source": [
    "### Search for matches in train.json"
   ]
  },
  {
   "cell_type": "code",
   "execution_count": 4,
   "metadata": {},
   "outputs": [],
   "source": [
    "from collections import defaultdict, Counter\n",
    "\n",
    "dish_to_ingredients = defaultdict(list)\n",
    "\n",
    "for dish in food101_dishes:\n",
    "    word_match = dish.replace(\"_\", \" \").lower()\n",
    "\n",
    "    for recipe in recipes:\n",
    "        joined_ingredients = \" \".join(recipe[\"ingredients\"]).lower()\n",
    "\n",
    "        if word_match in joined_ingredients:\n",
    "            dish_to_ingredients[dish].extend(recipe[\"ingredients\"])\n",
    "\n",
    "# Now count the most common ingredients for each dish\n",
    "dish2ingredients_final = {}\n",
    "for dish, all_ingredients in dish_to_ingredients.items():\n",
    "    ingredient_counts = Counter(all_ingredients)\n",
    "    dish2ingredients_final[dish] = [ing for ing, _ in ingredient_counts.most_common(10)]\n"
   ]
  },
  {
   "cell_type": "markdown",
   "metadata": {},
   "source": [
    "### Save as dish2ingredients.json"
   ]
  },
  {
   "cell_type": "code",
   "execution_count": 5,
   "metadata": {},
   "outputs": [
    {
     "name": "stdout",
     "output_type": "stream",
     "text": [
      "✅ Saved dish2ingredients.json\n"
     ]
    }
   ],
   "source": [
    "with open(\"dish2ingredients.json\", \"w\") as f:\n",
    "    json.dump(dish2ingredients_final, f, indent=2)\n",
    "\n",
    "print(\"✅ Saved dish2ingredients.json\")\n"
   ]
  },
  {
   "cell_type": "markdown",
   "metadata": {},
   "source": [
    "### Testing"
   ]
  },
  {
   "cell_type": "code",
   "execution_count": 6,
   "metadata": {},
   "outputs": [
    {
     "name": "stdout",
     "output_type": "stream",
     "text": [
      "Inferred Ingredients: ['olive oil', 'pizza doughs', 'pizza sauce', 'salt', 'shredded mozzarella cheese', 'mozzarella cheese', 'extra-virgin olive oil', 'grated parmesan cheese', 'pizza crust', 'garlic cloves']\n"
     ]
    }
   ],
   "source": [
    "with open(\"dish2ingredients.json\") as f:\n",
    "    dish_map = json.load(f)\n",
    "\n",
    "detected_dish = \"pizza\"\n",
    "ingredients = dish_map.get(detected_dish, [\"Unknown dish\"])\n",
    "print(\"Inferred Ingredients:\", ingredients)\n"
   ]
  },
  {
   "cell_type": "markdown",
   "metadata": {},
   "source": [
    "### More explicit generation that then contains classes of food not available in FOOD-101 and can do ingredient matching"
   ]
  },
  {
   "cell_type": "code",
   "execution_count": 8,
   "metadata": {},
   "outputs": [
    {
     "name": "stdout",
     "output_type": "stream",
     "text": [
      "✅ Matched recipes for 68 out of 101 classes.\n",
      "✅ Saved dish2ingredients.json to: dish2ingredients.json\n"
     ]
    }
   ],
   "source": [
    "import json\n",
    "from collections import defaultdict, Counter\n",
    "from fuzzywuzzy import fuzz\n",
    "\n",
    "# === CONFIGURATION ===\n",
    "CLASSES_FILE = \"/home/classes/ee7722/ee772210/Downloads/food-101/meta/classes.txt\"\n",
    "RECIPES_FILE = \"datasets/recipe-ingredients/train.json\"\n",
    "OUTPUT_FILE = \"dish2ingredients.json\"\n",
    "\n",
    "FUZZY_THRESHOLD = 80  # Match quality (0–100); lower = more aggressive\n",
    "\n",
    "# === STEP 1: Load Food-101 class names ===\n",
    "with open(CLASSES_FILE, \"r\") as f:\n",
    "    food101_dishes = [line.strip() for line in f]\n",
    "\n",
    "# === STEP 2: Load Kaggle recipe dataset ===\n",
    "with open(RECIPES_FILE, \"r\") as f:\n",
    "    recipes = json.load(f)\n",
    "\n",
    "# === STEP 3: Match dishes to recipes by fuzzy keyword matching ===\n",
    "dish_to_ingredients = defaultdict(list)\n",
    "\n",
    "for dish in food101_dishes:\n",
    "    dish_name = dish.replace(\"_\", \" \").lower()\n",
    "\n",
    "    for recipe in recipes:\n",
    "        ingredients = [ing.lower() for ing in recipe[\"ingredients\"]]\n",
    "        combined = \" \".join(ingredients)\n",
    "\n",
    "        # Fuzzy match the dish name to the combined ingredients string\n",
    "        score = fuzz.partial_ratio(dish_name, combined)\n",
    "        if score >= FUZZY_THRESHOLD:\n",
    "            dish_to_ingredients[dish].extend(ingredients)\n",
    "\n",
    "print(f\"✅ Matched recipes for {len(dish_to_ingredients)} out of {len(food101_dishes)} classes.\")\n",
    "\n",
    "# === STEP 4: Count and save top ingredients for each dish ===\n",
    "dish2ingredients_final = {}\n",
    "for dish, all_ingredients in dish_to_ingredients.items():\n",
    "    ingredient_counts = Counter(all_ingredients)\n",
    "    top_ingredients = [ing for ing, _ in ingredient_counts.most_common(10)]\n",
    "    dish2ingredients_final[dish] = top_ingredients\n",
    "\n",
    "# Save to JSON\n",
    "with open(OUTPUT_FILE, \"w\") as f:\n",
    "    json.dump(dish2ingredients_final, f, indent=2)\n",
    "\n",
    "print(f\"✅ Saved dish2ingredients.json to: {OUTPUT_FILE}\")\n"
   ]
  }
 ],
 "metadata": {
  "kernelspec": {
   "display_name": ".venv",
   "language": "python",
   "name": "python3"
  },
  "language_info": {
   "codemirror_mode": {
    "name": "ipython",
    "version": 3
   },
   "file_extension": ".py",
   "mimetype": "text/x-python",
   "name": "python",
   "nbconvert_exporter": "python",
   "pygments_lexer": "ipython3",
   "version": "3.9.21"
  }
 },
 "nbformat": 4,
 "nbformat_minor": 2
}
